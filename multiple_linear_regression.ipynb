{
  "nbformat": 4,
  "nbformat_minor": 0,
  "metadata": {
    "colab": {
      "provenance": [],
      "authorship_tag": "ABX9TyNPB6HmUOpkpJ4H92Zv16MM",
      "include_colab_link": true
    },
    "kernelspec": {
      "name": "python3",
      "display_name": "Python 3"
    },
    "language_info": {
      "name": "python"
    }
  },
  "cells": [
    {
      "cell_type": "markdown",
      "metadata": {
        "id": "view-in-github",
        "colab_type": "text"
      },
      "source": [
        "<a href=\"https://colab.research.google.com/github/herlindaaa/regresi/blob/main/multiple_linear_regression.ipynb\" target=\"_parent\"><img src=\"https://colab.research.google.com/assets/colab-badge.svg\" alt=\"Open In Colab\"/></a>"
      ]
    },
    {
      "cell_type": "code",
      "execution_count": 1,
      "metadata": {
        "id": "Kl1zn68vwE6D"
      },
      "outputs": [],
      "source": [
        "import numpy as np\n",
        "import matplotlib.pyplot as plt\n",
        "import pandas as pd"
      ]
    },
    {
      "cell_type": "code",
      "source": [
        "dataset = pd.read_csv('tourism_dataset.csv')\n",
        "X = dataset.iloc[:, :-1].values\n",
        "y = dataset.iloc[:, -1].values"
      ],
      "metadata": {
        "id": "9Xmmi5_vwlev"
      },
      "execution_count": 5,
      "outputs": []
    },
    {
      "cell_type": "code",
      "source": [
        "print(X)"
      ],
      "metadata": {
        "colab": {
          "base_uri": "https://localhost:8080/"
        },
        "id": "EoaEhFxLwwny",
        "outputId": "d9c5c013-9868-44fa-e032-a848fae1eec9"
      },
      "execution_count": 6,
      "outputs": [
        {
          "output_type": "stream",
          "name": "stdout",
          "text": [
            "[[106.8271528 4.6 15 'Jakarta']\n",
            " [106.8171245 4.6 90 'Jakarta']\n",
            " [106.8335377 4.6 360 'Jakarta']\n",
            " [106.8951559 4.5 60 'Jakarta']\n",
            " [106.839134 4.5 60 'Jakarta']\n",
            " [106.8579951 4.5 10 'Jakarta']\n",
            " [106.8201865 4.5 60 'Jakarta']\n",
            " [106.8363249 4.0 60 'Jakarta']\n",
            " [103.931398 4.4 60 'Jakarta']\n",
            " [106.5237907 4.5 60 'Jakarta']\n",
            " [106.746944 4.6 60 'Jakarta']\n",
            " [106.5863989 4.0 60 'Jakarta']\n",
            " [106.6136577 4.2 60 'Jakarta']\n",
            " [106.5885 4.8 60 'Jakarta']\n",
            " [106.8417666 4.4 90 'Jakarta']\n",
            " [106.8106169 4.3 60 'Jakarta']\n",
            " [106.8130661 4.4 60 'Jakarta']\n",
            " [106.813005 4.7 60 'Jakarta']\n",
            " [106.8097144 4.6 300 'Jakarta']\n",
            " [106.8189695 4.5 90 'Jakarta']\n",
            " [106.8124452 4.5 150 'Jakarta']\n",
            " [106.83139 4.7 60 'Jakarta']\n",
            " [106.833063 4.8 60 'Jakarta']\n",
            " [106.8215901 4.6 60 'Jakarta']\n",
            " [106.8119312 4.0 45 'Jakarta']\n",
            " [106.8140791 4.3 20 'Jakarta']\n",
            " [106.842963 4.5 180 'Jakarta']\n",
            " [106.9062371 4.5 60 'Jakarta']\n",
            " [106.8265261 5.0 60 'Jakarta']\n",
            " [106.8293106 4.5 60 'Jakarta']\n",
            " [106.735584 4.3 60 'Jakarta']\n",
            " [106.8238889 4.4 60 'Jakarta']\n",
            " [106.8326228 4.6 60 'Jakarta']\n",
            " [106.7890587 4.4 60 'Jakarta']\n",
            " [106.8204412 4.7 120 'Jakarta']\n",
            " [106.791941 4.5 180 'Jakarta']\n",
            " [106.893842 4.5 120 'Jakarta']\n",
            " [106.8239727 4.6 60 'Jakarta']\n",
            " [106.767622 4.5 120 'Jakarta']\n",
            " [106.8327716 4.6 60 'Jakarta']\n",
            " [106.8085899 4.4 120 'Jakarta']\n",
            " [106.814552 4.4 60 'Jakarta']\n",
            " [106.8122591 4.4 120 'Jakarta']\n",
            " [106.8230496 4.7 15 'Jakarta']\n",
            " [106.7904684 4.6 20 'Jakarta']\n",
            " [106.5714158 4.0 30 'Jakarta']\n",
            " [106.8346708 4.5 60 'Jakarta']\n",
            " [106.8397738 4.6 60 'Jakarta']\n",
            " [106.8200607 4.8 90 'Jakarta']\n",
            " [106.8364761 4.0 60 'Jakarta']\n",
            " [106.8388532 4.1 120 'Jakarta']\n",
            " [106.7617984 4.5 30 'Jakarta']\n",
            " [106.96057 4.5 90 'Jakarta']\n",
            " [106.9012561 4.2 45 'Jakarta']\n",
            " [106.8126018 4.5 45 'Jakarta']\n",
            " [106.8502435 4.4 60 'Jakarta']\n",
            " [106.8350378 4.7 50 'Jakarta']\n",
            " [106.7946655 4.4 45 'Jakarta']\n",
            " [106.8430507 4.7 90 'Jakarta']\n",
            " [106.8096081 4.5 45 'Jakarta']\n",
            " [106.8466623 4.6 45 'Jakarta']\n",
            " [106.8936219 4.5 60 'Jakarta']\n",
            " [106.838094 4.7 45 'Jakarta']\n",
            " [106.8365324 4.7 45 'Jakarta']\n",
            " [106.7932681 4.6 90 'Jakarta']\n",
            " [106.790548 4.5 90 'Jakarta']\n",
            " [106.7692016 4.2 15 'Jakarta']\n",
            " [106.8129398 4.4 45 'Jakarta']\n",
            " [106.8451968 5.0 30 'Jakarta']\n",
            " [106.8268717 4.7 240 'Jakarta']\n",
            " [106.8949793 4.5 60 'Jakarta']\n",
            " [106.7478596 4.4 60 'Jakarta']\n",
            " [106.9017725 4.4 60 'Jakarta']\n",
            " [106.824107 4.6 120 'Jakarta']\n",
            " [106.89151 4.3 60 'Jakarta']\n",
            " [106.7954476 4.5 60 'Jakarta']\n",
            " [106.8526505 4.4 60 'Jakarta']\n",
            " [106.7643954 4.3 60 'Jakarta']\n",
            " [106.8241871 4.6 30 'Jakarta']\n",
            " [106.8222158 4.7 120 'Jakarta']\n",
            " [106.817905 4.4 60 'Jakarta']\n",
            " [106.8185425 4.5 150 'Jakarta']\n",
            " [106.857313 4.3 60 'Jakarta']\n",
            " [106.824033 4.6 60 'Jakarta']\n",
            " [110.3676551 4.5 120 'Yogyakarta']\n",
            " [110.3642031 4.6 60 'Yogyakarta']\n",
            " [110.3542486 4.2 120 'Yogyakarta']\n",
            " [110.3663044 4.6 120 'Yogyakarta']\n",
            " [110.3871442 4.4 60 'Yogyakarta']\n",
            " [110.3594581 4.6 60 'Yogyakarta']\n",
            " [110.3931513 4.4 60 'Yogyakarta']\n",
            " [110.3647652 4.7 45 'Yogyakarta']\n",
            " [110.3967977 4.5 60 'Yogyakarta']\n",
            " [110.3591825 4.5 60 'Yogyakarta']\n",
            " [110.3756894 5.0 60 'Yogyakarta']\n",
            " [110.363238 4.6 60 'Yogyakarta']\n",
            " [110.3696068 4.5 30 'Yogyakarta']\n",
            " [110.3687049 4.3 60 'Yogyakarta']\n",
            " [110.35831 4.4 60 'Yogyakarta']]\n"
          ]
        }
      ]
    },
    {
      "cell_type": "code",
      "source": [
        "from sklearn.compose import ColumnTransformer\n",
        "from sklearn.preprocessing import OneHotEncoder\n",
        "ct = ColumnTransformer(transformers=[('encoder', OneHotEncoder(), [3])], remainder = 'passthrough')\n",
        "X = np.array(ct.fit_transform(X))"
      ],
      "metadata": {
        "id": "rCgNrf1lw2Nm"
      },
      "execution_count": 7,
      "outputs": []
    },
    {
      "cell_type": "code",
      "source": [
        "print(X)"
      ],
      "metadata": {
        "colab": {
          "base_uri": "https://localhost:8080/"
        },
        "id": "HhALHFrQ1Yhd",
        "outputId": "b86ee8ff-f9e0-4b68-e167-ba954b616918"
      },
      "execution_count": 8,
      "outputs": [
        {
          "output_type": "stream",
          "name": "stdout",
          "text": [
            "[[1.0 0.0 106.8271528 4.6 15]\n",
            " [1.0 0.0 106.8171245 4.6 90]\n",
            " [1.0 0.0 106.8335377 4.6 360]\n",
            " [1.0 0.0 106.8951559 4.5 60]\n",
            " [1.0 0.0 106.839134 4.5 60]\n",
            " [1.0 0.0 106.8579951 4.5 10]\n",
            " [1.0 0.0 106.8201865 4.5 60]\n",
            " [1.0 0.0 106.8363249 4.0 60]\n",
            " [1.0 0.0 103.931398 4.4 60]\n",
            " [1.0 0.0 106.5237907 4.5 60]\n",
            " [1.0 0.0 106.746944 4.6 60]\n",
            " [1.0 0.0 106.5863989 4.0 60]\n",
            " [1.0 0.0 106.6136577 4.2 60]\n",
            " [1.0 0.0 106.5885 4.8 60]\n",
            " [1.0 0.0 106.8417666 4.4 90]\n",
            " [1.0 0.0 106.8106169 4.3 60]\n",
            " [1.0 0.0 106.8130661 4.4 60]\n",
            " [1.0 0.0 106.813005 4.7 60]\n",
            " [1.0 0.0 106.8097144 4.6 300]\n",
            " [1.0 0.0 106.8189695 4.5 90]\n",
            " [1.0 0.0 106.8124452 4.5 150]\n",
            " [1.0 0.0 106.83139 4.7 60]\n",
            " [1.0 0.0 106.833063 4.8 60]\n",
            " [1.0 0.0 106.8215901 4.6 60]\n",
            " [1.0 0.0 106.8119312 4.0 45]\n",
            " [1.0 0.0 106.8140791 4.3 20]\n",
            " [1.0 0.0 106.842963 4.5 180]\n",
            " [1.0 0.0 106.9062371 4.5 60]\n",
            " [1.0 0.0 106.8265261 5.0 60]\n",
            " [1.0 0.0 106.8293106 4.5 60]\n",
            " [1.0 0.0 106.735584 4.3 60]\n",
            " [1.0 0.0 106.8238889 4.4 60]\n",
            " [1.0 0.0 106.8326228 4.6 60]\n",
            " [1.0 0.0 106.7890587 4.4 60]\n",
            " [1.0 0.0 106.8204412 4.7 120]\n",
            " [1.0 0.0 106.791941 4.5 180]\n",
            " [1.0 0.0 106.893842 4.5 120]\n",
            " [1.0 0.0 106.8239727 4.6 60]\n",
            " [1.0 0.0 106.767622 4.5 120]\n",
            " [1.0 0.0 106.8327716 4.6 60]\n",
            " [1.0 0.0 106.8085899 4.4 120]\n",
            " [1.0 0.0 106.814552 4.4 60]\n",
            " [1.0 0.0 106.8122591 4.4 120]\n",
            " [1.0 0.0 106.8230496 4.7 15]\n",
            " [1.0 0.0 106.7904684 4.6 20]\n",
            " [1.0 0.0 106.5714158 4.0 30]\n",
            " [1.0 0.0 106.8346708 4.5 60]\n",
            " [1.0 0.0 106.8397738 4.6 60]\n",
            " [1.0 0.0 106.8200607 4.8 90]\n",
            " [1.0 0.0 106.8364761 4.0 60]\n",
            " [1.0 0.0 106.8388532 4.1 120]\n",
            " [1.0 0.0 106.7617984 4.5 30]\n",
            " [1.0 0.0 106.96057 4.5 90]\n",
            " [1.0 0.0 106.9012561 4.2 45]\n",
            " [1.0 0.0 106.8126018 4.5 45]\n",
            " [1.0 0.0 106.8502435 4.4 60]\n",
            " [1.0 0.0 106.8350378 4.7 50]\n",
            " [1.0 0.0 106.7946655 4.4 45]\n",
            " [1.0 0.0 106.8430507 4.7 90]\n",
            " [1.0 0.0 106.8096081 4.5 45]\n",
            " [1.0 0.0 106.8466623 4.6 45]\n",
            " [1.0 0.0 106.8936219 4.5 60]\n",
            " [1.0 0.0 106.838094 4.7 45]\n",
            " [1.0 0.0 106.8365324 4.7 45]\n",
            " [1.0 0.0 106.7932681 4.6 90]\n",
            " [1.0 0.0 106.790548 4.5 90]\n",
            " [1.0 0.0 106.7692016 4.2 15]\n",
            " [1.0 0.0 106.8129398 4.4 45]\n",
            " [1.0 0.0 106.8451968 5.0 30]\n",
            " [1.0 0.0 106.8268717 4.7 240]\n",
            " [1.0 0.0 106.8949793 4.5 60]\n",
            " [1.0 0.0 106.7478596 4.4 60]\n",
            " [1.0 0.0 106.9017725 4.4 60]\n",
            " [1.0 0.0 106.824107 4.6 120]\n",
            " [1.0 0.0 106.89151 4.3 60]\n",
            " [1.0 0.0 106.7954476 4.5 60]\n",
            " [1.0 0.0 106.8526505 4.4 60]\n",
            " [1.0 0.0 106.7643954 4.3 60]\n",
            " [1.0 0.0 106.8241871 4.6 30]\n",
            " [1.0 0.0 106.8222158 4.7 120]\n",
            " [1.0 0.0 106.817905 4.4 60]\n",
            " [1.0 0.0 106.8185425 4.5 150]\n",
            " [1.0 0.0 106.857313 4.3 60]\n",
            " [1.0 0.0 106.824033 4.6 60]\n",
            " [0.0 1.0 110.3676551 4.5 120]\n",
            " [0.0 1.0 110.3642031 4.6 60]\n",
            " [0.0 1.0 110.3542486 4.2 120]\n",
            " [0.0 1.0 110.3663044 4.6 120]\n",
            " [0.0 1.0 110.3871442 4.4 60]\n",
            " [0.0 1.0 110.3594581 4.6 60]\n",
            " [0.0 1.0 110.3931513 4.4 60]\n",
            " [0.0 1.0 110.3647652 4.7 45]\n",
            " [0.0 1.0 110.3967977 4.5 60]\n",
            " [0.0 1.0 110.3591825 4.5 60]\n",
            " [0.0 1.0 110.3756894 5.0 60]\n",
            " [0.0 1.0 110.363238 4.6 60]\n",
            " [0.0 1.0 110.3696068 4.5 30]\n",
            " [0.0 1.0 110.3687049 4.3 60]\n",
            " [0.0 1.0 110.35831 4.4 60]]\n"
          ]
        }
      ]
    },
    {
      "cell_type": "code",
      "source": [
        "from sklearn.model_selection import train_test_split\n",
        "X_train, X_test, y_train, y_test = train_test_split(X, y, test_size = 0.2, random_state = 0)"
      ],
      "metadata": {
        "id": "U0pVX_br1b7f"
      },
      "execution_count": 10,
      "outputs": []
    },
    {
      "cell_type": "code",
      "source": [
        "from sklearn.linear_model import LinearRegression\n",
        "regressor = LinearRegression()\n",
        "regressor.fit(X_train, y_train)"
      ],
      "metadata": {
        "colab": {
          "base_uri": "https://localhost:8080/",
          "height": 74
        },
        "id": "m9T6i9VQ1rdZ",
        "outputId": "0cb53aa9-6f92-4547-b752-681e2ec4fb08"
      },
      "execution_count": 11,
      "outputs": [
        {
          "output_type": "execute_result",
          "data": {
            "text/plain": [
              "LinearRegression()"
            ],
            "text/html": [
              "<style>#sk-container-id-1 {color: black;background-color: white;}#sk-container-id-1 pre{padding: 0;}#sk-container-id-1 div.sk-toggleable {background-color: white;}#sk-container-id-1 label.sk-toggleable__label {cursor: pointer;display: block;width: 100%;margin-bottom: 0;padding: 0.3em;box-sizing: border-box;text-align: center;}#sk-container-id-1 label.sk-toggleable__label-arrow:before {content: \"▸\";float: left;margin-right: 0.25em;color: #696969;}#sk-container-id-1 label.sk-toggleable__label-arrow:hover:before {color: black;}#sk-container-id-1 div.sk-estimator:hover label.sk-toggleable__label-arrow:before {color: black;}#sk-container-id-1 div.sk-toggleable__content {max-height: 0;max-width: 0;overflow: hidden;text-align: left;background-color: #f0f8ff;}#sk-container-id-1 div.sk-toggleable__content pre {margin: 0.2em;color: black;border-radius: 0.25em;background-color: #f0f8ff;}#sk-container-id-1 input.sk-toggleable__control:checked~div.sk-toggleable__content {max-height: 200px;max-width: 100%;overflow: auto;}#sk-container-id-1 input.sk-toggleable__control:checked~label.sk-toggleable__label-arrow:before {content: \"▾\";}#sk-container-id-1 div.sk-estimator input.sk-toggleable__control:checked~label.sk-toggleable__label {background-color: #d4ebff;}#sk-container-id-1 div.sk-label input.sk-toggleable__control:checked~label.sk-toggleable__label {background-color: #d4ebff;}#sk-container-id-1 input.sk-hidden--visually {border: 0;clip: rect(1px 1px 1px 1px);clip: rect(1px, 1px, 1px, 1px);height: 1px;margin: -1px;overflow: hidden;padding: 0;position: absolute;width: 1px;}#sk-container-id-1 div.sk-estimator {font-family: monospace;background-color: #f0f8ff;border: 1px dotted black;border-radius: 0.25em;box-sizing: border-box;margin-bottom: 0.5em;}#sk-container-id-1 div.sk-estimator:hover {background-color: #d4ebff;}#sk-container-id-1 div.sk-parallel-item::after {content: \"\";width: 100%;border-bottom: 1px solid gray;flex-grow: 1;}#sk-container-id-1 div.sk-label:hover label.sk-toggleable__label {background-color: #d4ebff;}#sk-container-id-1 div.sk-serial::before {content: \"\";position: absolute;border-left: 1px solid gray;box-sizing: border-box;top: 0;bottom: 0;left: 50%;z-index: 0;}#sk-container-id-1 div.sk-serial {display: flex;flex-direction: column;align-items: center;background-color: white;padding-right: 0.2em;padding-left: 0.2em;position: relative;}#sk-container-id-1 div.sk-item {position: relative;z-index: 1;}#sk-container-id-1 div.sk-parallel {display: flex;align-items: stretch;justify-content: center;background-color: white;position: relative;}#sk-container-id-1 div.sk-item::before, #sk-container-id-1 div.sk-parallel-item::before {content: \"\";position: absolute;border-left: 1px solid gray;box-sizing: border-box;top: 0;bottom: 0;left: 50%;z-index: -1;}#sk-container-id-1 div.sk-parallel-item {display: flex;flex-direction: column;z-index: 1;position: relative;background-color: white;}#sk-container-id-1 div.sk-parallel-item:first-child::after {align-self: flex-end;width: 50%;}#sk-container-id-1 div.sk-parallel-item:last-child::after {align-self: flex-start;width: 50%;}#sk-container-id-1 div.sk-parallel-item:only-child::after {width: 0;}#sk-container-id-1 div.sk-dashed-wrapped {border: 1px dashed gray;margin: 0 0.4em 0.5em 0.4em;box-sizing: border-box;padding-bottom: 0.4em;background-color: white;}#sk-container-id-1 div.sk-label label {font-family: monospace;font-weight: bold;display: inline-block;line-height: 1.2em;}#sk-container-id-1 div.sk-label-container {text-align: center;}#sk-container-id-1 div.sk-container {/* jupyter's `normalize.less` sets `[hidden] { display: none; }` but bootstrap.min.css set `[hidden] { display: none !important; }` so we also need the `!important` here to be able to override the default hidden behavior on the sphinx rendered scikit-learn.org. See: https://github.com/scikit-learn/scikit-learn/issues/21755 */display: inline-block !important;position: relative;}#sk-container-id-1 div.sk-text-repr-fallback {display: none;}</style><div id=\"sk-container-id-1\" class=\"sk-top-container\"><div class=\"sk-text-repr-fallback\"><pre>LinearRegression()</pre><b>In a Jupyter environment, please rerun this cell to show the HTML representation or trust the notebook. <br />On GitHub, the HTML representation is unable to render, please try loading this page with nbviewer.org.</b></div><div class=\"sk-container\" hidden><div class=\"sk-item\"><div class=\"sk-estimator sk-toggleable\"><input class=\"sk-toggleable__control sk-hidden--visually\" id=\"sk-estimator-id-1\" type=\"checkbox\" checked><label for=\"sk-estimator-id-1\" class=\"sk-toggleable__label sk-toggleable__label-arrow\">LinearRegression</label><div class=\"sk-toggleable__content\"><pre>LinearRegression()</pre></div></div></div></div></div>"
            ]
          },
          "metadata": {},
          "execution_count": 11
        }
      ]
    },
    {
      "cell_type": "code",
      "source": [
        "y_pred = regressor.predict(X_test)\n",
        "np.set_printoptions(precision = 2)\n",
        "print(np.concatenate((y_pred.reshape(len(y_pred), 1), y_test.reshape(len(y_test), 1)), 1))"
      ],
      "metadata": {
        "colab": {
          "base_uri": "https://localhost:8080/"
        },
        "id": "ORf9_Gqv2AWV",
        "outputId": "c18314d7-3b9c-4b71-afdc-50012528e340"
      },
      "execution_count": 12,
      "outputs": [
        {
          "output_type": "stream",
          "name": "stdout",
          "text": [
            "[[ 47985.   115000.  ]\n",
            " [ 40227.62  20000.  ]\n",
            " [ 84045.22 270000.  ]\n",
            " [ 25516.43  25000.  ]\n",
            " [ 31031.08  20000.  ]\n",
            " [  2741.95  60000.  ]\n",
            " [ 32857.43   5000.  ]\n",
            " [ 33234.88      0.  ]\n",
            " [ 24351.8       0.  ]\n",
            " [-19616.43      0.  ]\n",
            " [ 22762.07      0.  ]\n",
            " [ -4835.54      0.  ]\n",
            " [ 13466.87      0.  ]\n",
            " [ 55978.87 900000.  ]\n",
            " [ 49485.9  180000.  ]\n",
            " [ 53462.24  25000.  ]\n",
            " [  7687.75      0.  ]\n",
            " [ 51010.62      0.  ]\n",
            " [ 37597.91      0.  ]\n",
            " [601868.23 175000.  ]]\n"
          ]
        }
      ]
    }
  ]
}